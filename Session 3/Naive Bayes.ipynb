{
 "cells": [
  {
   "cell_type": "markdown",
   "id": "c384bdd1-228e-42d4-a4a9-b5f0908c5c22",
   "metadata": {},
   "source": [
    "# Naive Bayes from Scratch"
   ]
  },
  {
   "cell_type": "markdown",
   "id": "f5a153d3-ab97-4c41-8e01-c2205be6b502",
   "metadata": {},
   "source": [
    "## Dataaset"
   ]
  },
  {
   "cell_type": "code",
   "execution_count": null,
   "id": "c38a15a4-3d55-4be2-b47f-62dd1768331a",
   "metadata": {},
   "outputs": [],
   "source": [
    "dataset = [\n",
    "    (\"Buy cheap meds now\", \"spam\"),\n",
    "    (\"Limited offer only today\", \"spam\"),\n",
    "    (\"Meeting at 10 am\", \"not_spam\"),\n",
    "    (\"Let's have lunch\", \"not_spam\"),\n",
    "    (\"Cheap pills available\", \"spam\"),\n",
    "    (\"Call me tonight\", \"not_spam\"),\n",
    "    (\"Win cash prizes now\", \"spam\"),\n",
    "    (\"Are we still meeting?\", \"not_spam\")\n",
    "]\n"
   ]
  },
  {
   "cell_type": "markdown",
   "id": "be89d27d-7274-4ba5-86e7-01bb55d5f789",
   "metadata": {},
   "source": [
    "## Naive Bayes"
   ]
  },
  {
   "cell_type": "code",
   "execution_count": null,
   "id": "ee5049d3-9515-4aa1-add1-9374118b0913",
   "metadata": {},
   "outputs": [],
   "source": [
    "import re\n",
    "from collections import defaultdict\n",
    "import math\n",
    "\n",
    "def tokenize(text):\n",
    "    text = text.lower()\n",
    "    return re.findall(r'\\b\\w+\\b', text)\n",
    "\n",
    "class NaiveBayes:\n",
    "    def __init__(self):\n",
    "        self.word_counts = defaultdict(lambda: defaultdict(int))\n",
    "        self.class_counts = defaultdict(int)\n",
    "        self.vocab = set()\n",
    "    \n",
    "    def train(self, dataset):\n",
    "        for text, label in dataset:\n",
    "            self.class_counts[label] += 1\n",
    "            for word in tokenize(text):\n",
    "                self.word_counts[label][word] += 1\n",
    "                self.vocab.add(word)\n",
    "        self.total_docs = sum(self.class_counts.values())\n",
    "\n",
    "    def predict(self, text):\n",
    "        words = tokenize(text)\n",
    "        vocab_size = len(self.vocab)\n",
    "        scores = {}\n",
    "\n",
    "        for label in self.class_counts:\n",
    "            log_prob = math.log(self.class_counts[label] / self.total_docs)\n",
    "            total_words = sum(self.word_counts[label].values())\n",
    "            \n",
    "            for word in words:\n",
    "                word_freq = self.word_counts[label][word] + 1  # Laplace smoothing\n",
    "                log_prob += math.log(word_freq / (total_words + vocab_size))\n",
    "            \n",
    "            scores[label] = log_prob\n",
    "\n",
    "        return max(scores, key=scores.get)\n"
   ]
  },
  {
   "cell_type": "code",
   "execution_count": null,
   "id": "c80ab419-448b-444d-8f8d-769ecabcf1d6",
   "metadata": {},
   "outputs": [
    {
     "name": "stdout",
     "output_type": "stream",
     "text": [
      "'cheap cash offer' → spam\n",
      "'let's meet at night' → not_spam\n",
      "'win big prizes' → spam\n",
      "'are you free today' → spam\n"
     ]
    }
   ],
   "source": [
    "model = NaiveBayes()\n",
    "model.train(dataset)\n",
    "\n",
    "test_samples = [\n",
    "    \"cheap cash offer\",\n",
    "    \"let's meet at night\",\n",
    "    \"win big prizes\",\n",
    "    \"are you free today\"\n",
    "]\n",
    "\n",
    "for sample in test_samples:\n",
    "    result = model.predict(sample)\n",
    "    print(f\"'{sample}' → {result}\")\n"
   ]
  },
  {
   "cell_type": "markdown",
   "id": "335dda11-3e38-4ff6-97d0-a14e1d004d47",
   "metadata": {},
   "source": [
    "are you free today is a spam lol, next time we should have a bigger dataset :)."
   ]
  }
 ],
 "metadata": {
  "kernelspec": {
   "display_name": "Python 3 (ipykernel)",
   "language": "python",
   "name": "python3"
  },
  "language_info": {
   "codemirror_mode": {
    "name": "ipython",
    "version": 3
   },
   "file_extension": ".py",
   "mimetype": "text/x-python",
   "name": "python",
   "nbconvert_exporter": "python",
   "pygments_lexer": "ipython3",
   "version": "3.12.0"
  }
 },
 "nbformat": 4,
 "nbformat_minor": 5
}
