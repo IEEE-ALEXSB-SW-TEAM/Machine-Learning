{
  "nbformat": 4,
  "nbformat_minor": 0,
  "metadata": {
    "colab": {
      "provenance": []
    },
    "kernelspec": {
      "name": "python3",
      "display_name": "Python 3"
    },
    "language_info": {
      "name": "python"
    }
  },
  "cells": [
    {
      "cell_type": "code",
      "execution_count": 3,
      "metadata": {
        "colab": {
          "base_uri": "https://localhost:8080/"
        },
        "id": "pYMiMbvCpJhO",
        "outputId": "3c4cf7d4-9ec5-413b-a15d-302ae865e072"
      },
      "outputs": [
        {
          "output_type": "stream",
          "name": "stdout",
          "text": [
            "Epoch 0, Loss: 2.5151\n",
            "Epoch 20, Loss: 0.0079\n",
            "Epoch 40, Loss: 0.0035\n",
            "Epoch 60, Loss: 0.0021\n",
            "Epoch 80, Loss: 0.0015\n",
            "Input: [2, 4, 6, 8, 10] → Predicted class: 1 (Increasing)\n",
            "Input: [9, 6, 4, 2, 0] → Predicted class: 0 (Decreasing)\n",
            "Input: [1, 3, 5, 4, 2] → Predicted class: 1 (Increasing)\n"
          ]
        }
      ],
      "source": [
        "import torch\n",
        "import torch.nn as nn\n",
        "import torch.optim as optim\n",
        "\n",
        "# Hyperparameters\n",
        "input_size = 1\n",
        "hidden_size = 16\n",
        "output_size = 2\n",
        "seq_length = 5\n",
        "\n",
        "# Define the RNN model\n",
        "class SimpleRNN(nn.Module):\n",
        "    def __init__(self, input_size, hidden_size, output_size):\n",
        "        super(SimpleRNN, self).__init__()\n",
        "        self.rnn = nn.RNN(input_size, hidden_size, batch_first=True)\n",
        "        self.fc = nn.Linear(hidden_size, output_size)\n",
        "\n",
        "    def forward(self, x):\n",
        "        out, _ = self.rnn(x)\n",
        "        last_hidden = out[:, -1, :]\n",
        "        return self.fc(last_hidden)\n",
        "\n",
        "# Initialize\n",
        "model = SimpleRNN(input_size, hidden_size, output_size)\n",
        "criterion = nn.CrossEntropyLoss()\n",
        "optimizer = optim.Adam(model.parameters(), lr=0.01)\n",
        "\n",
        "# Training data\n",
        "train_data = [\n",
        "    (torch.tensor([[[1.], [2.], [3.], [4.], [5.]]]), torch.tensor([1])),  # increasing\n",
        "    (torch.tensor([[[5.], [4.], [3.], [2.], [1.]]]), torch.tensor([0])),  # decreasing\n",
        "    (torch.tensor([[[0.], [1.], [2.], [3.], [4.]]]), torch.tensor([1])),\n",
        "    (torch.tensor([[[9.], [7.], [5.], [3.], [1.]]]), torch.tensor([0]))\n",
        "]\n",
        "\n",
        "# Training loop\n",
        "for epoch in range(100):\n",
        "    total_loss = 0\n",
        "    for inputs, labels in train_data:\n",
        "        optimizer.zero_grad()\n",
        "        outputs = model(inputs)\n",
        "        loss = criterion(outputs, labels)\n",
        "        loss.backward()\n",
        "        optimizer.step()\n",
        "        total_loss += loss.item()\n",
        "    if epoch % 20 == 0:\n",
        "        print(f\"Epoch {epoch}, Loss: {total_loss:.4f}\")\n",
        "\n",
        "# Function to test on unseen sequence\n",
        "def predict_sequence(seq):\n",
        "    with torch.no_grad():\n",
        "        seq_tensor = torch.tensor(seq, dtype=torch.float32).view(1, seq_length, 1)\n",
        "        output = model(seq_tensor)\n",
        "        predicted_class = torch.argmax(output, dim=1).item()\n",
        "        print(f\"Input: {seq} → Predicted class: {predicted_class} ({'Increasing' if predicted_class == 1 else 'Decreasing'})\")\n",
        "\n",
        "# Test on unseen sequences\n",
        "predict_sequence([2, 4, 6, 8, 10])   # unseen increasing\n",
        "predict_sequence([9, 6, 4, 2, 0])    # unseen decreasing\n",
        "predict_sequence([1, 3, 5, 4, 2])    # tricky one\n"
      ]
    }
  ]
}